{
 "cells": [
  {
   "cell_type": "code",
   "execution_count": 1,
   "metadata": {},
   "outputs": [],
   "source": [
    "import numpy as np\n",
    "import PIL\n",
    "from binary_classification import NeuralNetwork\n",
    "import matplotlib.pyplot as plt"
   ]
  },
  {
   "cell_type": "markdown",
   "metadata": {},
   "source": [
    "### Data Extraction and Preprocessing"
   ]
  },
  {
   "cell_type": "code",
   "execution_count": 2,
   "metadata": {},
   "outputs": [],
   "source": [
    "cat_image_path = \"data/PetImages/Cat/\"\n",
    "dog_image_path = \"data/PetImages/Dog/\"\n",
    "\n",
    "target_size = (100 ,100) # Target image size"
   ]
  },
  {
   "cell_type": "code",
   "execution_count": 3,
   "metadata": {},
   "outputs": [],
   "source": [
    "training_dataset = []\n",
    "testing_dataset = []\n",
    "m = 600 # each\n",
    "m_test = 10 # each"
   ]
  },
  {
   "cell_type": "code",
   "execution_count": 4,
   "metadata": {},
   "outputs": [],
   "source": [
    "# Let's take 300 images from both cats and dogs for training and 10 images from both cats and dogs for testing\n",
    "# 0 for cats and 1 for dogs\n",
    "\n",
    "\n",
    "for i in range(m + m_test):\n",
    "    # Convert image in the path to PIL Image object\n",
    "    image = PIL.Image.open(cat_image_path+f\"{i}.jpg\")\n",
    "    \n",
    "    # Convert image to grayscale\n",
    "    grayscale_image = image.convert('L')\n",
    "    \n",
    "    # Resize the grayscale image to the target size\n",
    "    resized_image = grayscale_image.resize(target_size)\n",
    "    \n",
    "    # Convert Image to numpy array\n",
    "    resized_array = np.array(resized_image)\n",
    "    \n",
    "    #Converting Image of target_size (m,n) to (m*n, )\n",
    "    resized_array = resized_array.flatten()\n",
    "    \n",
    "    if i < m:\n",
    "        training_dataset.append((resized_array, 0))\n",
    "    else:\n",
    "        testing_dataset.append((resized_array, 0))\n",
    "\n",
    "for i in range(m + m_test):\n",
    "    # Convert image in the path to PIL Image object\n",
    "    image = PIL.Image.open(dog_image_path+f\"{i}.jpg\")\n",
    "    \n",
    "    # Convert image to grayscale\n",
    "    grayscale_image = image.convert('L')\n",
    "    \n",
    "    # Resize the grayscale image to the target size\n",
    "    resized_image = grayscale_image.resize(target_size)\n",
    "    \n",
    "    # Convert Image to numpy array\n",
    "    resized_array = np.array(resized_image)\n",
    "    \n",
    "    #Converting Image of target_size (m,n) to (m*n, )\n",
    "    resized_array = resized_array.flatten()\n",
    "    \n",
    "    if i < m:\n",
    "        training_dataset.append((resized_array, 1))\n",
    "    else:\n",
    "        testing_dataset.append((resized_array, 1))"
   ]
  },
  {
   "cell_type": "code",
   "execution_count": 5,
   "metadata": {},
   "outputs": [],
   "source": [
    "training_dataset = np.array(training_dataset, dtype=object)\n",
    "testing_dataset = np.array(testing_dataset, dtype=object)\n",
    "np.random.shuffle(training_dataset)\n",
    "np.random.shuffle(testing_dataset)"
   ]
  },
  {
   "cell_type": "code",
   "execution_count": 6,
   "metadata": {},
   "outputs": [],
   "source": [
    "X_train, y_train = training_dataset[:, 0], training_dataset[:, 1]\n",
    "X_test, y_test = testing_dataset[:, 0], testing_dataset[:, 1]"
   ]
  },
  {
   "cell_type": "code",
   "execution_count": 7,
   "metadata": {},
   "outputs": [],
   "source": [
    "# Reshape each image and flatten them\n",
    "resized_images = [np.array(image).reshape(target_size) for image in X_train]\n",
    "flattened_images = [image.flatten() for image in resized_images]\n",
    "\n",
    "# Concatenate the flattened images into X_train\n",
    "X_train = np.stack(flattened_images)\n",
    "\n",
    "# Reshape X_train to the desired shape\n",
    "X_train = X_train.reshape((2*m, target_size[0]*target_size[1]))"
   ]
  },
  {
   "cell_type": "code",
   "execution_count": 8,
   "metadata": {},
   "outputs": [],
   "source": [
    "# Reshape each image and flatten them\n",
    "resized_images_ = [np.array(image).reshape(target_size) for image in X_test]\n",
    "flattened_images_ = [image.flatten() for image in resized_images_]\n",
    "\n",
    "# Concatenate the flattened images into X_train\n",
    "X_test = np.stack(flattened_images_)\n",
    "\n",
    "# Reshape X_train to the desired shape\n",
    "X_test = X_test.reshape((2*m_test, target_size[0]*target_size[1]))"
   ]
  },
  {
   "cell_type": "code",
   "execution_count": 9,
   "metadata": {},
   "outputs": [
    {
     "data": {
      "text/plain": [
       "((1200, 10000), (20, 10000), (1200,), (20,))"
      ]
     },
     "execution_count": 9,
     "metadata": {},
     "output_type": "execute_result"
    }
   ],
   "source": [
    "X_train.shape, X_test.shape, y_train.shape, y_test.shape"
   ]
  },
  {
   "cell_type": "code",
   "execution_count": 10,
   "metadata": {},
   "outputs": [],
   "source": [
    "# Reshape X_train to the desired shape\n",
    "X_train = X_train.reshape((2*m, target_size[0]*target_size[1]))\n",
    "X_train = X_train.astype(float) # important that X_train is in float\n",
    "X_train /= 255.0 # scaling X_train between 0 and 1\n",
    "\n",
    "# Reshape y_train to the desired shape\n",
    "y_train = y_train.reshape((2*m,))\n",
    "\n",
    "# Reshape X_test to the desired shape\n",
    "X_test = X_test.reshape((2*m_test, target_size[0]*target_size[1]))\n",
    "X_test = X_test.astype(float) # important that X_test is in float\n",
    "X_test /= 255.0 # scaling X_train between 0 and 1\n",
    "\n",
    "# Reshape y_test to the desired shape\n",
    "y_test = y_test.reshape((2*m_test,))"
   ]
  },
  {
   "cell_type": "markdown",
   "metadata": {},
   "source": [
    "# Training the Neural Net"
   ]
  },
  {
   "cell_type": "code",
   "execution_count": 11,
   "metadata": {},
   "outputs": [],
   "source": [
    "model = NeuralNetwork(input_size = (2*m, target_size[0]*target_size[1]), neurons_hidden_layers=[20, 20])"
   ]
  },
  {
   "cell_type": "code",
   "execution_count": 12,
   "metadata": {},
   "outputs": [
    {
     "name": "stdout",
     "output_type": "stream",
     "text": [
      "epoch 1 completed...., accuracy= 50.0\n",
      "epoch 2 completed...., accuracy= 50.0\n",
      "epoch 3 completed...., accuracy= 50.0\n",
      "epoch 4 completed...., accuracy= 50.0\n",
      "epoch 5 completed...., accuracy= 50.0\n"
     ]
    }
   ],
   "source": [
    "model.train(X_train, y_train, epochs=5, learning_rate=0.1)"
   ]
  },
  {
   "cell_type": "code",
   "execution_count": 13,
   "metadata": {},
   "outputs": [
    {
     "name": "stdout",
     "output_type": "stream",
     "text": [
      "[[0.49982673 0.49995851 0.49987818 0.49976657 0.49992114 0.49990712\n",
      "  0.499811   0.49984164 0.49995052 0.49987603 0.49985774 0.49982126\n",
      "  0.49985889 0.49991347 0.49978068 0.49989299 0.4998518  0.49993918\n",
      "  0.49978456 0.49988321]]\n"
     ]
    }
   ],
   "source": [
    "predictions = model.predict(X_test)\n",
    "print(predictions)"
   ]
  },
  {
   "cell_type": "code",
   "execution_count": 14,
   "metadata": {},
   "outputs": [
    {
     "data": {
      "text/plain": [
       "50.0"
      ]
     },
     "execution_count": 14,
     "metadata": {},
     "output_type": "execute_result"
    }
   ],
   "source": [
    "model.accuracy(predictions, y_test)"
   ]
  }
 ],
 "metadata": {
  "kernelspec": {
   "display_name": "Python 3 (ipykernel)",
   "language": "python",
   "name": "python3"
  },
  "language_info": {
   "codemirror_mode": {
    "name": "ipython",
    "version": 3
   },
   "file_extension": ".py",
   "mimetype": "text/x-python",
   "name": "python",
   "nbconvert_exporter": "python",
   "pygments_lexer": "ipython3",
   "version": "3.10.7"
  }
 },
 "nbformat": 4,
 "nbformat_minor": 2
}
